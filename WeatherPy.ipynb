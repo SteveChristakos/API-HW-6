
WeatherPy
Analysis
As expected, the weather becomes significantly warmer as one approaches the equator (0 Deg. Latitude). More interestingly, however, is the fact that the southern hemisphere tends to be warmer this time of year than the northern hemisphere. This may be due to the tilt of the earth.
There is no strong relationship between latitude and cloudiness. However, it is interesting to see that a strong band of cities sits at 0, 80, and 100% cloudiness.
There is no strong relationship between latitude and wind speed. However, in northern hemispheres there is a flurry of cities with over 20 mph of wind.
Note
Instructions have been included for each segment. You do not have to follow them exactly, but they are included to help you think through the steps.
In [2]:
# Dependencies and Setup
import matplotlib.pyplot as plt
import pandas as pd
import numpy as np
import requests
import time





# Import API key
from api_keys import api_key

# Incorporated citipy to determine city based on latitude and longitude
from citipy import citipy

# Output File (CSV)
output_data_file = "output_data/cities.csv"

# Range of latitudes and longitudes
lat_range = (-90, 90)
lng_range = (-180, 180)
Generate Cities List
In [3]:
# List for holding lat_lngs and cities
lat_lngs = []
cities = []

# Create a set of random lat and lng combinations
lats = np.random.uniform(low=-90.000, high=90.000, size=1500)
lngs = np.random.uniform(low=-180.000, high=180.000, size=1500)
lat_lngs = zip(lats, lngs)

# Identify nearest city for each lat, lng combination
for lat_lng in lat_lngs:
    city = citipy.nearest_city(lat_lng[0], lat_lng[1]).city_name
    
    # If the city is unique, then add it to a our cities list
    if city not in cities:
        cities.append(city)

# Print the city count to confirm sufficient count
len(cities)
Out[3]:
627
In [4]:
print(cities)
['sao joao da barra', 'mandalgovi', 'egvekinot', 'basco', 'ancud', 'ribeira grande', 'rikitea', 'hariana', 'albany', 'rorvik', 'ilulissat', 'saint-philippe', 'jamestown', 'teguldet', 'port alfred', 'ahipara', 'mataura', 'kamenka', 'tiksi', 'vaitupu', 'taolanaro', 'punta arenas', 'petropavlovsk-kamchatskiy', 'tuktoyaktuk', 'lebu', 'hobart', 'norman wells', 'vikhorevka', 'morondava', 'saskylakh', 'west bay', 'qaanaaq', 'saryshagan', 'anadyr', 'caravelas', 'puerto ayora', 'razole', 'busselton', 'sol-iletsk', 'paso de carrasco', 'alofi', 'hualmay', 'castro', 'tuatapere', 'ola', 'tumannyy', 'kavieng', 'san lorenzo', 'tasiilaq', 'oktyabrskoye', 'mnogovershinnyy', 'berlevag', 'atar', 'iqaluit', 'east london', 'mar del plata', 'lensk', 'alekseyevskaya', 'khatanga', 'pundaguitan', 'bredasdorp', 'umzimvubu', 'vaini', 'norilsk', 'qui nhon', 'ushuaia', 'tiznit', 'savonlinna', 'butaritari', 'avera', 'kapaa', 'forbes', 'carbonia', 'nova londrina', 'nabire', 'walvis bay', 'ramos arizpe', 'cape town', 'mys shmidta', 'gainesville', 'kontagora', 'attawapiskat', 'berbera', 'korla', 'severo-kurilsk', 'broome', 'viedma', 'poya', 'dickson', 'huarmey', 'port elizabeth', 'narsaq', 'aklavik', 'umm lajj', 'kaitangata', 'nishihara', 'satana', 'havoysund', 'atuona', 'atambua', 'bethel', 'hilo', 'hermanus', 'husavik', 'oranjemund', 'jamkhed', 'kirakira', 'taraz', 'kahului', 'georgetown', 'tomari', 'chuy', 'vostok', 'luderitz', 'lagoa', 'la ronge', 'grand gaube', 'hambantota', 'gat', 'amderma', 'meulaboh', 'sisimiut', 'kysyl-syr', 'port-cartier', 'barentsburg', 'mbandaka', 'escanaba', 'urdzhar', 'honiara', 'crab hill', 'trujillo', 'grand river south east', 'mayo', 'ganzhou', 'tromso', 'boguchany', 'sabinas', 'sao filipe', 'barrow', 'pulandian', 'solnechnyy', 'torbay', 'nizhneyansk', 'bata', 'terrak', 'lakes entrance', 'gigmoto', 'faanui', 'yaransk', 'hobyo', 'beloha', 'monterey', 'sitka', 'kodiak', 'port augusta', 'guajara-mirim', 'muros', 'store heddinge', 'new norfolk', 'port-gentil', 'billings', 'saint-pierre', 'illoqqortoormiut', 'tsihombe', 'fare', 'san cristobal', 'kabare', 'riviere-au-renard', 'ambilobe', 'carauari', 'lady frere', 'svetlaya', 'veraval', 'humberto de campos', 'upernavik', 'victoria', 'nioaque', 'fazalpur', 'sataua', 'balsas', 'carnarvon', 'neuquen', 'izvestkovyy', 'vilhena', 'mocuba', 'provideniya', 'rancho palos verdes', 'straumen', 'churapcha', 'port hardy', 'geraldton', 'pevek', 'bubaque', 'pacific grove', 'saint anthony', 'olovyannaya', 'aflu', 'westport', 'normandin', 'bilibino', 'comodoro rivadavia', 'otane', 'mahebourg', 'jiamusi', 'saldanha', 'north bend', 'emba', 'antofagasta', 'korhogo', 'sayyan', 'cabo san lucas', 'lexington', 'parry sound', 'ponta do sol', 'itarema', 'college', 'nizwa', 'san jeronimo', 'constitucion', 'boffa', 'komsomolskiy', 'morehead', 'rawson', 'bluff', 'bambous virieux', 'odesskoye', 'siilinjarvi', 'sanming', 'panguna', 'poum', 'san patricio', 'ulverstone', 'gusau', 'kruisfontein', 'belushya guba', 'clyde river', 'ayr', 'kalpi', 'katsuura', 'balurghat', 'port macquarie', 'hasaki', 'port blair', 'matagami', 'namtsy', 'pangnirtung', 'avarua', 'iskateley', 'los llanos de aridane', 'alghero', 'thompson', 'lorengau', 'yellowknife', 'kjollefjord', 'bac lieu', 'san quintin', 'beringovskiy', 'chokurdakh', 'bengkulu', 'hamilton', 'airai', 'san rafael', 'warqla', 'ponnani', 'klaksvik', 'solovetskiy', 'wattegama', 'volksrust', 'akureyri', 'karkaralinsk', 'kholodnyy', 'shadrinsk', 'minnedosa', 'nezhinka', 'arraial do cabo', 'batemans bay', 'camacha', 'haines junction', 'padang', 'khandyga', 'bilma', 'lata', 'zhitikara', 'ketchenery', 'santa lucia', 'hue', 'dawlatabad', 'flin flon', 'smidovich', 'vila franca do campo', 'caledon east', 'tabukiniberu', 'pangai', 'kuytun', 'sur', 'vardo', 'dubbo', 'malmo', 'coahuayana', 'kaduy', 'dukat', 'samalaeulu', 'cherskiy', 'waipawa', 'brae', 'namibe', 'viligili', 'revelstoke', 'san miguel', 'abu samrah', 'rungata', 'tessalit', 'baicheng', 'kinsale', 'mackay', 'lavrentiya', 'mount gambier', 'barraute', 'tura', 'ayan', 'dangriga', 'loandjili', 'taltal', 'saint george', 'shimoda', 'lasa', 'kudahuvadhoo', 'pisco', 'disna', 'homer', 'nefteyugansk', 'bandarbeyla', 'cidreira', 'souillac', 'shchuchye', 'quthing', 'asosa', 'geelong', 'urusha', 'granadilla de abona', 'marystown', 'mazamari', 'bukachacha', 'loukhi', 'chama', 'mogadishu', 'porto velho', 'kagalnik', 'minsk', 'sioux lookout', 'kloulklubed', 'mikhaylovskoye', 'kothapet', 'kununurra', 'jalpan', 'jumla', 'codrington', 'hithadhoo', 'topolobampo', 'talawdi', 'drezdenko', 'farah', 'longyearbyen', 'namatanai', 'abu jubayhah', 'trairi', 'botwood', 'naze', 'shache', 'tara', 'chelyabinsk-40', 'gunjur', 'diamantino', 'khonuu', 'kungurtug', 'daura', 'kasempa', 'ponta delgada', 'jalu', 'muroto', 'te anau', 'vetlanda', 'durango', 'klodzko', 'borba', 'touros', 'opunake', 'kautokeino', 'weirton', 'champerico', 'masuguru', 'loncoche', 'tacuarembo', 'yambio', 'laguna', 'springbok', 'choix', 'samusu', 'bugama', 'uyuni', 'tabuk', 'satitoa', 'batagay-alyta', 'ntungamo', 'fort saint john', 'halalo', 'chikitigarh', 'suzdal', 'tautira', 'kerki', 'hatillo', 'damavand', 'saleaula', 'grand-santi', 'marawi', 'opuwo', 'puyang', 'najran', 'kijang', 'buraydah', 'evensk', 'barra do corda', 'bargal', 'stoyba', 'vila velha', 'san carlos', 'qianan', 'navolato', 'arvika', 'siderno', 'ouango', 'turbat', 'palana', 'baisha', 'coquimbo', 'okhotsk', 'garm', 'okha', 'akhmim', 'caraballeda', 'kozluk', 'puerto colombia', 'kirchhain', 'edmonds', 'high rock', 'kilindoni', 'iberia', 'nikolskoye', 'tubruq', 'chandrakona', 'vao', 'bemidji', 'cabedelo', 'fairbanks', 'tanete', 'dikson', 'manyana', 'omsukchan', 'krasnopillya', 'lashio', 'hachinohe', 'guerrero negro', 'peniche', 'lolua', 'margate', 'aksu', 'salalah', 'zverinogolovskoye', 'kimbe', 'trat', 'leningradskiy', 'petropavlovka', 'dospat', 'tezpur', 'baruun-urt', 'benjamin constant', 'san luis obispo', 'sangueya', 'olinda', 'sinnamary', 'aktau', 'pangkalanbuun', 'assiniboia', 'kokstad', 'at-bashi', 'lewisporte', 'negara', 'buenavista', 'aracuai', 'issoire', 'zvishavane', 'sterling', 'alyangula', 'karratha', 'tombouctou', 'kinanah', 'kang', 'cottbus', 'saint-joseph', 'xianyang', 'marsa matruh', 'cedar rapids', 'arlit', 'thinadhoo', 'lakeway', 'douglas', 'ketchikan', 'manati', 'nanortalik', 'tammisaari', 'broken hill', 'manggar', 'dosso', 'nouakchott', 'poltavka', 'vila do maio', 'nanga eboko', 'lima', 'virginia beach', 'porbandar', 'inirida', 'hirara', 'khopoli', 'arkhangelsk', 'kamaris', 'yaounde', 'kurilsk', 'sinjah', 'tezu', 'vaasa', 'isla mujeres', 'san jose', 'tankara', 'shakawe', 'tucumcari', 'lompoc', 'marijampole', 'karpogory', 'sofiysk', 'port washington', 'jacksonville', 'awbari', 'santa cruz de tenerife', 'bonavista', 'bur gabo', 'banjar', 'stephenville', 'goianesia', 'xining', 'cozumel', 'longonjo', 'donegal', 'harper', 'athens', 'prince rupert', 'makakilo city', 'nekrasovskoye', 'abha', 'jawhar', 'nirmal', 'nipani', 'asau', 'wanning', 'elmira', 'bolungarvik', 'alenquer', 'aswan', 'sijunjung', 'lahat', 'tocopilla', 'mae hong son', 'labuan', 'desterro', 'arcata', 'chimoio', 'mwinilunga', 'alice springs', 'nyurba', 'pringsewu', 'listvyagi', 'ulladulla', 'myitkyina', 'matamoros', 'gayeri', 'chebsara', 'cheremshan', 'general pico', 'araguatins', 'half moon bay', 'san isidro', 'meadow lake', 'esmeraldas', 'kharp', 'gushikawa', 'bar harbor', 'dengzhou', 'zabol', 'nemuro', 'malakal', 'iznoski', 'boende', 'verkhozim', 'yaan', 'buchanan', 'heihe', 'usinsk', 'birin', 'kodinsk', 'port hedland', 'moerai', 'gamba', 'mocambique', 'coos bay', 'adrar', 'arrecife', 'esperance', 'balagansk', 'san ramon de la nueva oran', 'sovetskoye', 'vasterhaninge', 'haibowan', 'cuamba', 'dauriya', 'santa maria', 'parrita', 'ovruch', 'aasiaat']
Perform API Calls
Perform a weather check on each city using a series of successive API calls.
Include a print log of each city as it'sbeing processed (with the city number and city name).
In [5]:
# Save config information.
url = "http://api.openweathermap.org/data/2.5/weather?"
units = "imperial"

# Build partial query URL
query_url = f"{url}appid={api_key}&units={units}&q="
In [6]:
print(query_url)
http://api.openweathermap.org/data/2.5/weather?appid=a85d3d4e8611903d22f50c4e21dd61a2&units=imperial&q=
In [7]:
Cloudiness = []
Country = [] 
Date = []
Humidity = []   
Lat = []         
Lng = []  
Max_Temp = []
Wind_Speed = []





  
response = requests.get(query_url + "sattenapalle").json()
Cloudiness.append(response['clouds']['all'])
# Country.append(response['sys']['country'])
# Date.append(response['dt'])
# Humidity.append(response['main']['humidity'])
# Lat.append(response['coord']['lat'])
# Lng.append(response['coor']['lon'])
# Max_Temp.append(response['main']['temp_max'])
# Wind_Speed.append(response['wind']['speed'])
In [8]:
Cloudiness = []
Country = [] 
Date = []
Humidity = []   
Lat = []         
Lng = []  
Max_Temp = []
Wind_Speed = []
Cities_Present = []




for city in cities:
    try:
        response = requests.get(query_url + city).json()
        Cloudiness.append(response['clouds']['all'])
        Country.append(response['sys']['country'])
        Date.append(response['dt'])
        Humidity.append(response['main']['humidity'])
        Lat.append(response['coord']['lat'])
        Lng.append(response['coord']['lon'])
        Max_Temp.append(response['main']['temp_max'])
        Wind_Speed.append(response['wind']['speed'])
        Cities_Present.append(city)
    except:
        pass
In [9]:
print(Wind_Speed[:5])
[13.87, 12.57, 11.01, 3.36, 7.65]
In [11]:
weather_dict = {
    "City": Cities_Present,
    "Cloudiness":Cloudiness,
    "Country":Country, 
    "Date":Date, 
    "Humidity":Humidity,   
    "Lat":Lat,        
    "Lng":Lng,   
    "Max_Temp":Max_Temp, 
    "Wind_Speed":Wind_Speed

}
weather_data = pd.DataFrame(weather_dict)
weather_data.head()
Out[11]:
City	Cloudiness	Country	Date	Humidity	Lat	Lng	Max_Temp	Wind_Speed
0	sao joao da barra	40	BR	1538694000	78	-21.64	-41.05	77.00	13.87
1	mandalgovi	0	MN	1538698708	69	45.76	106.27	24.60	12.57
2	egvekinot	76	RU	1538698708	85	66.32	-179.17	41.25	11.01
3	basco	90	US	1538698500	67	40.33	-91.20	62.96	3.36
4	ancud	0	CL	1538698708	63	-41.87	-73.83	49.35	7.65
In [12]:
weather_data["City"].count()
Out[12]:
562
In [14]:
weather_data.to_csv("Output_Data/cities.csv", index=False, header=True)
In [ ]:

Convert Raw Data to DataFrame
Export the city data into a .csv.
Display the DataFrame
In [43]:
weather_data["Wind_Speed"].min()
Out[43]:
0.59999999999999998
In [44]:
weather_data["Wind_Speed"].max()
Out[44]:
40.259999999999998
In [17]:
import seaborn as sns
Plotting the Data
Use proper labeling of the plots using plot titles (including date of analysis) and axes labels.
Save the plotted figures as .pngs.
Latitude vs. Temperature Plot
In [31]:
# Build a scatter plot for each data type
plt.scatter(weather_data["Lat"], weather_data["Max_Temp"], marker="o")

# Incorporate the other graph properties
plt.title("Latitude vs. Temperature Plot")
plt.ylabel("Max Temperature (F)")
plt.xlabel("Latitude")
plt.grid(True)

# Save the figure
plt.savefig("Temperature.png")

# Show plot
plt.show()

 


plt.tight_layout()
plt.xlim(-90, 90)
plt.ylim(0, 110)

Out[31]:
(0, 110)
Latitude vs. Humidity Plot
In [35]:
# Build a scatter plot for each data type
plt.scatter(weather_data["Lat"], weather_data["Humidity"], marker="o")

# Incorporate the other graph properties
plt.title("Latitude vs. Temperature Plot")
plt.ylabel("Max Temperature (F)")
plt.xlabel("Latitude")
plt.grid(True)

# Save the figure
plt.savefig("Humidity.png")

# Show plot
plt.show()

 


plt.tight_layout()
plt.xlim(-90, 90)
plt.ylim(0, 120)

Out[35]:
(0, 120)
Latitude vs. Cloudiness Plot
In [40]:
# Build a scatter plot for each data type
plt.scatter(weather_data["Lat"], weather_data["Cloudiness"], marker="o")

# Incorporate the other graph properties
plt.title("Latitude vs. Temperature Plot")
plt.ylabel("Max Temperature (F)")
plt.xlabel("Latitude")
plt.grid(True)

# Save the figure
plt.savefig("Cloud.png")

# Show plot
plt.show()

 


plt.tight_layout()
plt.xlim(-90, 90)
plt.ylim(-10, 120)

Out[40]:
(-10, 120)
Latitude vs. Wind Speed Plot
In [47]:
# Build a scatter plot for each data type
plt.scatter(weather_data["Lat"], weather_data["Wind_Speed"], marker="o")

# Incorporate the other graph properties
plt.title("Latitude vs. Temperature Plot")
plt.ylabel("Max Temperature (F)")
plt.xlabel("Latitude")
plt.grid(True)

# Save the figure
plt.savefig("Wind_Speed.png")

# Show plot
plt.show()

 


plt.tight_layout()
plt.xlim(-90, 90)
plt.ylim(-3, 50)

Out[47]:
(-3, 50)
In [ ]:

In [ ]:
